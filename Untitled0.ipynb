{
  "nbformat": 4,
  "nbformat_minor": 0,
  "metadata": {
    "colab": {
      "provenance": []
    },
    "kernelspec": {
      "name": "python3",
      "display_name": "Python 3"
    },
    "language_info": {
      "name": "python"
    }
  },
  "cells": [
    {
      "cell_type": "code",
      "execution_count": 1,
      "metadata": {
        "colab": {
          "base_uri": "https://localhost:8080/"
        },
        "id": "RFs7e2LW5FSq",
        "outputId": "ca41ee1a-12cb-4f93-b6a9-b320841ac2c0"
      },
      "outputs": [
        {
          "output_type": "stream",
          "name": "stdout",
          "text": [
            "d\n"
          ]
        }
      ],
      "source": [
        "print('d')"
      ]
    },
    {
      "cell_type": "markdown",
      "source": [
        "As you can see"
      ],
      "metadata": {
        "id": "deD6m8rO6FOg"
      }
    }
  ]
}